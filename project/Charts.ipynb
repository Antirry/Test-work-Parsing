{
 "cells": [
  {
   "cell_type": "markdown",
   "metadata": {},
   "source": [
    "    !pip install ipykernel\n",
    "    !pip install pandas\n",
    "    !pip install plotly\n",
    "    !pip install --upgrade nbformat"
   ]
  },
  {
   "cell_type": "code",
   "execution_count": 2,
   "metadata": {},
   "outputs": [
    {
     "name": "stdout",
     "output_type": "stream",
     "text": [
      "likes                      int64\n",
      "time              datetime64[ns]\n",
      "views                      int64\n",
      "shared                     int64\n",
      "weekday           string[python]\n",
      "weekday_number             int32\n",
      "dtype: object\n",
      "\n",
      "diff_time    int64\n",
      "likes        int64\n",
      "dtype: object\n"
     ]
    }
   ],
   "source": [
    "import pandas as pd\n",
    "\n",
    "import plotly.express as px\n",
    "import plotly.graph_objects as go\n",
    "\n",
    "from DataFrame_from_parsed_data import df_all, df_difference"
   ]
  },
  {
   "cell_type": "markdown",
   "metadata": {},
   "source": [
    "## Количество лайков по дням"
   ]
  },
  {
   "cell_type": "code",
   "execution_count": null,
   "metadata": {},
   "outputs": [],
   "source": [
    "df_all_sorted = df_all.groupby('time')['likes'].mean().reset_index().sort_values('time')\n",
    "\n",
    "# Get the first two maximum values of the 'likes' column\n",
    "max_values = df_all_sorted['likes'].nlargest(2).values\n",
    "\n",
    "fig = px.bar(df_all_sorted,\n",
    "             x='time',\n",
    "             y='likes',\n",
    "             title='Количество лайков по дням',\n",
    "             template='plotly_dark'\n",
    ")\n",
    "\n",
    "fig.update_traces(\n",
    "    marker_color=[px.colors.qualitative.Set3[6] \n",
    "                  if likes in max_values else px.colors.qualitative.Set3[3]\n",
    "                  for likes in df_all_sorted['likes']\n",
    "    ],\n",
    "    showlegend=True,\n",
    "    name='Лайки',\n",
    "    # mode='markers+lines'  # Add this line to include markers\n",
    ")\n",
    "\n",
    "fig.update_layout(\n",
    "    showlegend=True,\n",
    "    legend_title='Легенда графика'\n",
    ")\n",
    "\n",
    "fig.update_yaxes(title_text='Лайки')\n",
    "fig.update_xaxes(\n",
    "        type=\"category\",  # RESOLVES DATA GAP ISSUES\n",
    "        showticklabels=False,\n",
    "        title='',\n",
    ")\n",
    "\n",
    "fig.add_annotation(\n",
    "    text='Дата',  \n",
    "    xref='paper',  # x-coordinate reference is the paper (normalized coordinates)\n",
    "    yref='paper',  # y-coordinate reference is the paper (normalized coordinates)\n",
    "    x=0.5,  # x-coordinate (0.5 is the center of the plot)\n",
    "    y=-0.1,  # y-coordinate (negative to place it below the plot)\n",
    "    showarrow=False,  # Hide the arrow\n",
    "    font=dict(size=14) \n",
    ")\n",
    "\n",
    "fig.show()\n"
   ]
  },
  {
   "cell_type": "markdown",
   "metadata": {},
   "source": [
    "## Количество лайков в зависимости от дня недели (Среднее)"
   ]
  },
  {
   "cell_type": "code",
   "execution_count": null,
   "metadata": {},
   "outputs": [],
   "source": [
    "# Group the data by 'weekday' and calculate the sum of 'likes'\n",
    "likes_by_weekday = df_all.groupby(['weekday', 'weekday_number'])['likes'].mean().reset_index().sort_values('weekday_number')\n",
    "\n",
    "# Create a line plot using plotly express\n",
    "fig = px.line(likes_by_weekday,\n",
    "             x='weekday',\n",
    "             y='likes',\n",
    "             title='Количество лайков относительно дня недели поста',\n",
    "             template='plotly_dark')\n",
    "\n",
    "fig.update_traces(\n",
    "    line_color=px.colors.qualitative.Set3[4],\n",
    "    name='Лайки',\n",
    "    mode='markers+lines',\n",
    "    showlegend=True\n",
    ")\n",
    "\n",
    "fig.update_layout(barmode='group',\n",
    "                  showlegend=True,\n",
    "                  legend_title='Легенда графика'\n",
    ")\n",
    "\n",
    "fig.update_yaxes(title_text='Лайки')\n",
    "fig.update_xaxes(title_text='День недели')\n",
    "\n",
    "fig.show()"
   ]
  },
  {
   "cell_type": "markdown",
   "metadata": {},
   "source": [
    "## Количество лайков относительно времени между постами (Среднее)"
   ]
  },
  {
   "cell_type": "code",
   "execution_count": null,
   "metadata": {},
   "outputs": [],
   "source": [
    "df_difference = df_difference.groupby('diff_time')['likes'].mean().reset_index().sort_values('diff_time')\n",
    "\n",
    "fig = px.line(df_difference,\n",
    "             x='diff_time',\n",
    "             y='likes',\n",
    "             title='Количество лайков относительно времени между постами',\n",
    "             template='plotly_dark'\n",
    ")\n",
    "\n",
    "fig.update_traces(\n",
    "    line_color=px.colors.qualitative.Set3[5],\n",
    "    name='Лайки',\n",
    "    mode='markers+lines',\n",
    "    showlegend=True\n",
    ")\n",
    "\n",
    "fig.update_layout(barmode='group',\n",
    "                  showlegend=True,\n",
    "                  legend_title='Легенда графика',\n",
    ")\n",
    "\n",
    "fig.update_yaxes(title_text='Лайки')\n",
    "fig.update_xaxes(title_text='Количество дней между постами (Дни)', type='category')\n",
    "\n",
    "fig.show()\n"
   ]
  },
  {
   "cell_type": "markdown",
   "metadata": {},
   "source": [
    "    По двум графикам выше, видно то,\n",
    "     что лайков больше всего в воскресенье,\n",
    "     а лучшее количество дней между репостами 15 или 12\n",
    "\n",
    "  Это все не учитывая время суток данных, поскольку парсинг мне не дал такой возможности\n",
    "  \n",
    "  или я просто не знаю как это сделать через 'tag time'\n"
   ]
  }
 ],
 "metadata": {
  "kernelspec": {
   "display_name": "venv_plotly_express",
   "language": "python",
   "name": "python3"
  },
  "language_info": {
   "codemirror_mode": {
    "name": "ipython",
    "version": 3
   },
   "file_extension": ".py",
   "mimetype": "text/x-python",
   "name": "python",
   "nbconvert_exporter": "python",
   "pygments_lexer": "ipython3",
   "version": "3.10.4"
  },
  "orig_nbformat": 4
 },
 "nbformat": 4,
 "nbformat_minor": 2
}
